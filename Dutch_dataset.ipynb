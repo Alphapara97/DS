{
  "nbformat": 4,
  "nbformat_minor": 0,
  "metadata": {
    "colab": {
      "name": "Dutch_dataset.ipynb",
      "provenance": [],
      "authorship_tag": "ABX9TyPYYCAI0xYsRJ+ZK2HWZRCW",
      "include_colab_link": true
    },
    "kernelspec": {
      "name": "python3",
      "display_name": "Python 3"
    },
    "language_info": {
      "name": "python"
    }
  },
  "cells": [
    {
      "cell_type": "markdown",
      "metadata": {
        "id": "view-in-github",
        "colab_type": "text"
      },
      "source": [
        "<a href=\"https://colab.research.google.com/github/Alphapara97/DS/blob/main/Dutch_dataset.ipynb\" target=\"_parent\"><img src=\"https://colab.research.google.com/assets/colab-badge.svg\" alt=\"Open In Colab\"/></a>"
      ]
    },
    {
      "cell_type": "markdown",
      "source": [
        "# Mini - Project - 2"
      ],
      "metadata": {
        "id": "TjC7Pm0sAcuh"
      }
    },
    {
      "cell_type": "code",
      "source": [
        "from google.colab import drive\n",
        "drive.mount('/content/drive')"
      ],
      "metadata": {
        "id": "NOLMav-OyhLc"
      },
      "execution_count": null,
      "outputs": []
    },
    {
      "cell_type": "markdown",
      "source": [
        "Libraries Import"
      ],
      "metadata": {
        "id": "1jB2B1WpAnas"
      }
    },
    {
      "cell_type": "code",
      "execution_count": null,
      "metadata": {
        "id": "jVaZ1lKBRjE4"
      },
      "outputs": [],
      "source": [
        "import pandas as pd\n",
        "import io\n",
        "import numpy as np\n",
        "from sklearn.ensemble import RandomForestClassifier\n",
        "from sklearn.metrics import confusion_matrix"
      ]
    },
    {
      "cell_type": "markdown",
      "source": [
        "Initial Analysis"
      ],
      "metadata": {
        "id": "rM4OIpjWAro1"
      }
    },
    {
      "cell_type": "code",
      "source": [
        "from google.colab import files\n",
        "uploaded = files.upload()"
      ],
      "metadata": {
        "colab": {
          "resources": {
            "http://localhost:8080/nbextensions/google.colab/files.js": {
              "data": "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",
              "ok": true,
              "headers": [
                [
                  "content-type",
                  "application/javascript"
                ]
              ],
              "status": 200,
              "status_text": ""
            }
          },
          "base_uri": "https://localhost:8080/",
          "height": 73
        },
        "id": "hIBYsBmbSFbO",
        "outputId": "0675a28a-23e8-45b6-ee77-aa666e18b71f"
      },
      "execution_count": null,
      "outputs": [
        {
          "output_type": "display_data",
          "data": {
            "text/plain": [
              "<IPython.core.display.HTML object>"
            ],
            "text/html": [
              "\n",
              "     <input type=\"file\" id=\"files-65cc16a5-afc6-4c31-ab37-a509786df2ba\" name=\"files[]\" multiple disabled\n",
              "        style=\"border:none\" />\n",
              "     <output id=\"result-65cc16a5-afc6-4c31-ab37-a509786df2ba\">\n",
              "      Upload widget is only available when the cell has been executed in the\n",
              "      current browser session. Please rerun this cell to enable.\n",
              "      </output>\n",
              "      <script src=\"/nbextensions/google.colab/files.js\"></script> "
            ]
          },
          "metadata": {}
        },
        {
          "output_type": "stream",
          "name": "stdout",
          "text": [
            "Saving dutch.csv to dutch (3).csv\n"
          ]
        }
      ]
    },
    {
      "cell_type": "code",
      "source": [
        "df = pd.read_csv(io.BytesIO(uploaded['dutch.csv']))"
      ],
      "metadata": {
        "id": "JFgZwg3LR3zR"
      },
      "execution_count": null,
      "outputs": []
    },
    {
      "cell_type": "code",
      "source": [
        "df"
      ],
      "metadata": {
        "id": "0BOFLbJ5THUF",
        "colab": {
          "base_uri": "https://localhost:8080/",
          "height": 487
        },
        "outputId": "e655873b-a81c-41cb-a11d-9145bfb7c1ba"
      },
      "execution_count": null,
      "outputs": [
        {
          "output_type": "execute_result",
          "data": {
            "text/plain": [
              "          sex  age  household_position  household_size  prev_residence_place  \\\n",
              "0        male    6                1131             112                     1   \n",
              "1      female   10                1122             113                     1   \n",
              "2        male    8                1122             113                     1   \n",
              "3        male   12                1121             112                     1   \n",
              "4      female    4                1110             114                     1   \n",
              "...       ...  ...                 ...             ...                   ...   \n",
              "60415    male   10                1122             125                     1   \n",
              "60416  female    5                1110             114                     1   \n",
              "60417    male   11                1121             112                     1   \n",
              "60418  female    7                1131             112                     1   \n",
              "60419    male   12                1121             112                     1   \n",
              "\n",
              "       citizenship  country_birth  edu_level  economic_status  \\\n",
              "0                1              1          5              111   \n",
              "1                1              1          2              111   \n",
              "2                1              1          2              111   \n",
              "3                1              1          1              111   \n",
              "4                1              1          2              111   \n",
              "...            ...            ...        ...              ...   \n",
              "60415            1              1          3              111   \n",
              "60416            1              1          5              111   \n",
              "60417            1              1          5              111   \n",
              "60418            1              1          5              111   \n",
              "60419            1              1          5              111   \n",
              "\n",
              "       cur_eco_activity  marital_status  occupation  \n",
              "0                   135               1           1  \n",
              "1                   122               2           0  \n",
              "2                   122               2           1  \n",
              "3                   137               2           0  \n",
              "4                   138               1           0  \n",
              "...                 ...             ...         ...  \n",
              "60415               131               2           1  \n",
              "60416               135               1           0  \n",
              "60417               135               2           1  \n",
              "60418               137               1           1  \n",
              "60419               137               2           1  \n",
              "\n",
              "[60420 rows x 12 columns]"
            ],
            "text/html": [
              "\n",
              "  <div id=\"df-f9db227a-ecc6-4570-b743-10b91734961f\">\n",
              "    <div class=\"colab-df-container\">\n",
              "      <div>\n",
              "<style scoped>\n",
              "    .dataframe tbody tr th:only-of-type {\n",
              "        vertical-align: middle;\n",
              "    }\n",
              "\n",
              "    .dataframe tbody tr th {\n",
              "        vertical-align: top;\n",
              "    }\n",
              "\n",
              "    .dataframe thead th {\n",
              "        text-align: right;\n",
              "    }\n",
              "</style>\n",
              "<table border=\"1\" class=\"dataframe\">\n",
              "  <thead>\n",
              "    <tr style=\"text-align: right;\">\n",
              "      <th></th>\n",
              "      <th>sex</th>\n",
              "      <th>age</th>\n",
              "      <th>household_position</th>\n",
              "      <th>household_size</th>\n",
              "      <th>prev_residence_place</th>\n",
              "      <th>citizenship</th>\n",
              "      <th>country_birth</th>\n",
              "      <th>edu_level</th>\n",
              "      <th>economic_status</th>\n",
              "      <th>cur_eco_activity</th>\n",
              "      <th>marital_status</th>\n",
              "      <th>occupation</th>\n",
              "    </tr>\n",
              "  </thead>\n",
              "  <tbody>\n",
              "    <tr>\n",
              "      <th>0</th>\n",
              "      <td>male</td>\n",
              "      <td>6</td>\n",
              "      <td>1131</td>\n",
              "      <td>112</td>\n",
              "      <td>1</td>\n",
              "      <td>1</td>\n",
              "      <td>1</td>\n",
              "      <td>5</td>\n",
              "      <td>111</td>\n",
              "      <td>135</td>\n",
              "      <td>1</td>\n",
              "      <td>1</td>\n",
              "    </tr>\n",
              "    <tr>\n",
              "      <th>1</th>\n",
              "      <td>female</td>\n",
              "      <td>10</td>\n",
              "      <td>1122</td>\n",
              "      <td>113</td>\n",
              "      <td>1</td>\n",
              "      <td>1</td>\n",
              "      <td>1</td>\n",
              "      <td>2</td>\n",
              "      <td>111</td>\n",
              "      <td>122</td>\n",
              "      <td>2</td>\n",
              "      <td>0</td>\n",
              "    </tr>\n",
              "    <tr>\n",
              "      <th>2</th>\n",
              "      <td>male</td>\n",
              "      <td>8</td>\n",
              "      <td>1122</td>\n",
              "      <td>113</td>\n",
              "      <td>1</td>\n",
              "      <td>1</td>\n",
              "      <td>1</td>\n",
              "      <td>2</td>\n",
              "      <td>111</td>\n",
              "      <td>122</td>\n",
              "      <td>2</td>\n",
              "      <td>1</td>\n",
              "    </tr>\n",
              "    <tr>\n",
              "      <th>3</th>\n",
              "      <td>male</td>\n",
              "      <td>12</td>\n",
              "      <td>1121</td>\n",
              "      <td>112</td>\n",
              "      <td>1</td>\n",
              "      <td>1</td>\n",
              "      <td>1</td>\n",
              "      <td>1</td>\n",
              "      <td>111</td>\n",
              "      <td>137</td>\n",
              "      <td>2</td>\n",
              "      <td>0</td>\n",
              "    </tr>\n",
              "    <tr>\n",
              "      <th>4</th>\n",
              "      <td>female</td>\n",
              "      <td>4</td>\n",
              "      <td>1110</td>\n",
              "      <td>114</td>\n",
              "      <td>1</td>\n",
              "      <td>1</td>\n",
              "      <td>1</td>\n",
              "      <td>2</td>\n",
              "      <td>111</td>\n",
              "      <td>138</td>\n",
              "      <td>1</td>\n",
              "      <td>0</td>\n",
              "    </tr>\n",
              "    <tr>\n",
              "      <th>...</th>\n",
              "      <td>...</td>\n",
              "      <td>...</td>\n",
              "      <td>...</td>\n",
              "      <td>...</td>\n",
              "      <td>...</td>\n",
              "      <td>...</td>\n",
              "      <td>...</td>\n",
              "      <td>...</td>\n",
              "      <td>...</td>\n",
              "      <td>...</td>\n",
              "      <td>...</td>\n",
              "      <td>...</td>\n",
              "    </tr>\n",
              "    <tr>\n",
              "      <th>60415</th>\n",
              "      <td>male</td>\n",
              "      <td>10</td>\n",
              "      <td>1122</td>\n",
              "      <td>125</td>\n",
              "      <td>1</td>\n",
              "      <td>1</td>\n",
              "      <td>1</td>\n",
              "      <td>3</td>\n",
              "      <td>111</td>\n",
              "      <td>131</td>\n",
              "      <td>2</td>\n",
              "      <td>1</td>\n",
              "    </tr>\n",
              "    <tr>\n",
              "      <th>60416</th>\n",
              "      <td>female</td>\n",
              "      <td>5</td>\n",
              "      <td>1110</td>\n",
              "      <td>114</td>\n",
              "      <td>1</td>\n",
              "      <td>1</td>\n",
              "      <td>1</td>\n",
              "      <td>5</td>\n",
              "      <td>111</td>\n",
              "      <td>135</td>\n",
              "      <td>1</td>\n",
              "      <td>0</td>\n",
              "    </tr>\n",
              "    <tr>\n",
              "      <th>60417</th>\n",
              "      <td>male</td>\n",
              "      <td>11</td>\n",
              "      <td>1121</td>\n",
              "      <td>112</td>\n",
              "      <td>1</td>\n",
              "      <td>1</td>\n",
              "      <td>1</td>\n",
              "      <td>5</td>\n",
              "      <td>111</td>\n",
              "      <td>135</td>\n",
              "      <td>2</td>\n",
              "      <td>1</td>\n",
              "    </tr>\n",
              "    <tr>\n",
              "      <th>60418</th>\n",
              "      <td>female</td>\n",
              "      <td>7</td>\n",
              "      <td>1131</td>\n",
              "      <td>112</td>\n",
              "      <td>1</td>\n",
              "      <td>1</td>\n",
              "      <td>1</td>\n",
              "      <td>5</td>\n",
              "      <td>111</td>\n",
              "      <td>137</td>\n",
              "      <td>1</td>\n",
              "      <td>1</td>\n",
              "    </tr>\n",
              "    <tr>\n",
              "      <th>60419</th>\n",
              "      <td>male</td>\n",
              "      <td>12</td>\n",
              "      <td>1121</td>\n",
              "      <td>112</td>\n",
              "      <td>1</td>\n",
              "      <td>1</td>\n",
              "      <td>1</td>\n",
              "      <td>5</td>\n",
              "      <td>111</td>\n",
              "      <td>137</td>\n",
              "      <td>2</td>\n",
              "      <td>1</td>\n",
              "    </tr>\n",
              "  </tbody>\n",
              "</table>\n",
              "<p>60420 rows × 12 columns</p>\n",
              "</div>\n",
              "      <button class=\"colab-df-convert\" onclick=\"convertToInteractive('df-f9db227a-ecc6-4570-b743-10b91734961f')\"\n",
              "              title=\"Convert this dataframe to an interactive table.\"\n",
              "              style=\"display:none;\">\n",
              "        \n",
              "  <svg xmlns=\"http://www.w3.org/2000/svg\" height=\"24px\"viewBox=\"0 0 24 24\"\n",
              "       width=\"24px\">\n",
              "    <path d=\"M0 0h24v24H0V0z\" fill=\"none\"/>\n",
              "    <path d=\"M18.56 5.44l.94 2.06.94-2.06 2.06-.94-2.06-.94-.94-2.06-.94 2.06-2.06.94zm-11 1L8.5 8.5l.94-2.06 2.06-.94-2.06-.94L8.5 2.5l-.94 2.06-2.06.94zm10 10l.94 2.06.94-2.06 2.06-.94-2.06-.94-.94-2.06-.94 2.06-2.06.94z\"/><path d=\"M17.41 7.96l-1.37-1.37c-.4-.4-.92-.59-1.43-.59-.52 0-1.04.2-1.43.59L10.3 9.45l-7.72 7.72c-.78.78-.78 2.05 0 2.83L4 21.41c.39.39.9.59 1.41.59.51 0 1.02-.2 1.41-.59l7.78-7.78 2.81-2.81c.8-.78.8-2.07 0-2.86zM5.41 20L4 18.59l7.72-7.72 1.47 1.35L5.41 20z\"/>\n",
              "  </svg>\n",
              "      </button>\n",
              "      \n",
              "  <style>\n",
              "    .colab-df-container {\n",
              "      display:flex;\n",
              "      flex-wrap:wrap;\n",
              "      gap: 12px;\n",
              "    }\n",
              "\n",
              "    .colab-df-convert {\n",
              "      background-color: #E8F0FE;\n",
              "      border: none;\n",
              "      border-radius: 50%;\n",
              "      cursor: pointer;\n",
              "      display: none;\n",
              "      fill: #1967D2;\n",
              "      height: 32px;\n",
              "      padding: 0 0 0 0;\n",
              "      width: 32px;\n",
              "    }\n",
              "\n",
              "    .colab-df-convert:hover {\n",
              "      background-color: #E2EBFA;\n",
              "      box-shadow: 0px 1px 2px rgba(60, 64, 67, 0.3), 0px 1px 3px 1px rgba(60, 64, 67, 0.15);\n",
              "      fill: #174EA6;\n",
              "    }\n",
              "\n",
              "    [theme=dark] .colab-df-convert {\n",
              "      background-color: #3B4455;\n",
              "      fill: #D2E3FC;\n",
              "    }\n",
              "\n",
              "    [theme=dark] .colab-df-convert:hover {\n",
              "      background-color: #434B5C;\n",
              "      box-shadow: 0px 1px 3px 1px rgba(0, 0, 0, 0.15);\n",
              "      filter: drop-shadow(0px 1px 2px rgba(0, 0, 0, 0.3));\n",
              "      fill: #FFFFFF;\n",
              "    }\n",
              "  </style>\n",
              "\n",
              "      <script>\n",
              "        const buttonEl =\n",
              "          document.querySelector('#df-f9db227a-ecc6-4570-b743-10b91734961f button.colab-df-convert');\n",
              "        buttonEl.style.display =\n",
              "          google.colab.kernel.accessAllowed ? 'block' : 'none';\n",
              "\n",
              "        async function convertToInteractive(key) {\n",
              "          const element = document.querySelector('#df-f9db227a-ecc6-4570-b743-10b91734961f');\n",
              "          const dataTable =\n",
              "            await google.colab.kernel.invokeFunction('convertToInteractive',\n",
              "                                                     [key], {});\n",
              "          if (!dataTable) return;\n",
              "\n",
              "          const docLinkHtml = 'Like what you see? Visit the ' +\n",
              "            '<a target=\"_blank\" href=https://colab.research.google.com/notebooks/data_table.ipynb>data table notebook</a>'\n",
              "            + ' to learn more about interactive tables.';\n",
              "          element.innerHTML = '';\n",
              "          dataTable['output_type'] = 'display_data';\n",
              "          await google.colab.output.renderOutput(dataTable, element);\n",
              "          const docLink = document.createElement('div');\n",
              "          docLink.innerHTML = docLinkHtml;\n",
              "          element.appendChild(docLink);\n",
              "        }\n",
              "      </script>\n",
              "    </div>\n",
              "  </div>\n",
              "  "
            ]
          },
          "metadata": {},
          "execution_count": 158
        }
      ]
    },
    {
      "cell_type": "code",
      "source": [
        "df.isnull().mean().sort_values(ascending =False)"
      ],
      "metadata": {
        "colab": {
          "base_uri": "https://localhost:8080/"
        },
        "id": "2lC2WnXDVmfM",
        "outputId": "4bf86c3d-3990-4410-c385-791bbb1c6887"
      },
      "execution_count": null,
      "outputs": [
        {
          "output_type": "execute_result",
          "data": {
            "text/plain": [
              "sex                     0.0\n",
              "age                     0.0\n",
              "household_position      0.0\n",
              "household_size          0.0\n",
              "prev_residence_place    0.0\n",
              "citizenship             0.0\n",
              "country_birth           0.0\n",
              "edu_level               0.0\n",
              "economic_status         0.0\n",
              "cur_eco_activity        0.0\n",
              "marital_status          0.0\n",
              "occupation              0.0\n",
              "dtype: float64"
            ]
          },
          "metadata": {},
          "execution_count": 159
        }
      ]
    },
    {
      "cell_type": "code",
      "source": [
        "df.dtypes"
      ],
      "metadata": {
        "colab": {
          "base_uri": "https://localhost:8080/"
        },
        "id": "casFU_VRVwFF",
        "outputId": "a30f17c7-0f8a-41de-9917-c92f1523af85"
      },
      "execution_count": null,
      "outputs": [
        {
          "output_type": "execute_result",
          "data": {
            "text/plain": [
              "sex                     object\n",
              "age                      int64\n",
              "household_position       int64\n",
              "household_size           int64\n",
              "prev_residence_place     int64\n",
              "citizenship              int64\n",
              "country_birth            int64\n",
              "edu_level                int64\n",
              "economic_status          int64\n",
              "cur_eco_activity         int64\n",
              "marital_status           int64\n",
              "occupation               int64\n",
              "dtype: object"
            ]
          },
          "metadata": {},
          "execution_count": 160
        }
      ]
    },
    {
      "cell_type": "code",
      "source": [
        "df.describe()"
      ],
      "metadata": {
        "colab": {
          "base_uri": "https://localhost:8080/",
          "height": 364
        },
        "id": "z01_tfxCWNvE",
        "outputId": "63d0b869-89f6-4849-fc49-1f7ba686d43e"
      },
      "execution_count": null,
      "outputs": [
        {
          "output_type": "execute_result",
          "data": {
            "text/plain": [
              "                age  household_position  household_size  prev_residence_place  \\\n",
              "count  60420.000000        60420.000000    60420.000000          60420.000000   \n",
              "mean       8.281993         1132.555693      114.398444              1.024446   \n",
              "std        2.346269           29.124960        4.356812              0.154429   \n",
              "min        4.000000         1110.000000      111.000000              1.000000   \n",
              "25%        7.000000         1121.000000      112.000000              1.000000   \n",
              "50%        8.000000         1122.000000      113.000000              1.000000   \n",
              "75%       10.000000         1131.000000      114.000000              1.000000   \n",
              "max       15.000000         1220.000000      126.000000              2.000000   \n",
              "\n",
              "        citizenship  country_birth     edu_level  economic_status  \\\n",
              "count  60420.000000   60420.000000  60420.000000     60420.000000   \n",
              "mean       1.025604       1.118884      3.277822       111.781993   \n",
              "std        0.191314       0.445122      1.303829         2.419913   \n",
              "min        1.000000       1.000000      0.000000       111.000000   \n",
              "25%        1.000000       1.000000      2.000000       111.000000   \n",
              "50%        1.000000       1.000000      3.000000       111.000000   \n",
              "75%        1.000000       1.000000      5.000000       111.000000   \n",
              "max        3.000000       3.000000      5.000000       120.000000   \n",
              "\n",
              "       cur_eco_activity  marital_status    occupation  \n",
              "count      60420.000000    60420.000000  60420.000000  \n",
              "mean         132.412099        1.801705      0.476051  \n",
              "std            6.130431        0.728751      0.499430  \n",
              "min          111.000000        1.000000      0.000000  \n",
              "25%          131.000000        1.000000      0.000000  \n",
              "50%          135.000000        2.000000      0.000000  \n",
              "75%          137.000000        2.000000      1.000000  \n",
              "max          139.000000        4.000000      1.000000  "
            ],
            "text/html": [
              "\n",
              "  <div id=\"df-78266eff-bee5-4345-8b0d-2b6df459ff8a\">\n",
              "    <div class=\"colab-df-container\">\n",
              "      <div>\n",
              "<style scoped>\n",
              "    .dataframe tbody tr th:only-of-type {\n",
              "        vertical-align: middle;\n",
              "    }\n",
              "\n",
              "    .dataframe tbody tr th {\n",
              "        vertical-align: top;\n",
              "    }\n",
              "\n",
              "    .dataframe thead th {\n",
              "        text-align: right;\n",
              "    }\n",
              "</style>\n",
              "<table border=\"1\" class=\"dataframe\">\n",
              "  <thead>\n",
              "    <tr style=\"text-align: right;\">\n",
              "      <th></th>\n",
              "      <th>age</th>\n",
              "      <th>household_position</th>\n",
              "      <th>household_size</th>\n",
              "      <th>prev_residence_place</th>\n",
              "      <th>citizenship</th>\n",
              "      <th>country_birth</th>\n",
              "      <th>edu_level</th>\n",
              "      <th>economic_status</th>\n",
              "      <th>cur_eco_activity</th>\n",
              "      <th>marital_status</th>\n",
              "      <th>occupation</th>\n",
              "    </tr>\n",
              "  </thead>\n",
              "  <tbody>\n",
              "    <tr>\n",
              "      <th>count</th>\n",
              "      <td>60420.000000</td>\n",
              "      <td>60420.000000</td>\n",
              "      <td>60420.000000</td>\n",
              "      <td>60420.000000</td>\n",
              "      <td>60420.000000</td>\n",
              "      <td>60420.000000</td>\n",
              "      <td>60420.000000</td>\n",
              "      <td>60420.000000</td>\n",
              "      <td>60420.000000</td>\n",
              "      <td>60420.000000</td>\n",
              "      <td>60420.000000</td>\n",
              "    </tr>\n",
              "    <tr>\n",
              "      <th>mean</th>\n",
              "      <td>8.281993</td>\n",
              "      <td>1132.555693</td>\n",
              "      <td>114.398444</td>\n",
              "      <td>1.024446</td>\n",
              "      <td>1.025604</td>\n",
              "      <td>1.118884</td>\n",
              "      <td>3.277822</td>\n",
              "      <td>111.781993</td>\n",
              "      <td>132.412099</td>\n",
              "      <td>1.801705</td>\n",
              "      <td>0.476051</td>\n",
              "    </tr>\n",
              "    <tr>\n",
              "      <th>std</th>\n",
              "      <td>2.346269</td>\n",
              "      <td>29.124960</td>\n",
              "      <td>4.356812</td>\n",
              "      <td>0.154429</td>\n",
              "      <td>0.191314</td>\n",
              "      <td>0.445122</td>\n",
              "      <td>1.303829</td>\n",
              "      <td>2.419913</td>\n",
              "      <td>6.130431</td>\n",
              "      <td>0.728751</td>\n",
              "      <td>0.499430</td>\n",
              "    </tr>\n",
              "    <tr>\n",
              "      <th>min</th>\n",
              "      <td>4.000000</td>\n",
              "      <td>1110.000000</td>\n",
              "      <td>111.000000</td>\n",
              "      <td>1.000000</td>\n",
              "      <td>1.000000</td>\n",
              "      <td>1.000000</td>\n",
              "      <td>0.000000</td>\n",
              "      <td>111.000000</td>\n",
              "      <td>111.000000</td>\n",
              "      <td>1.000000</td>\n",
              "      <td>0.000000</td>\n",
              "    </tr>\n",
              "    <tr>\n",
              "      <th>25%</th>\n",
              "      <td>7.000000</td>\n",
              "      <td>1121.000000</td>\n",
              "      <td>112.000000</td>\n",
              "      <td>1.000000</td>\n",
              "      <td>1.000000</td>\n",
              "      <td>1.000000</td>\n",
              "      <td>2.000000</td>\n",
              "      <td>111.000000</td>\n",
              "      <td>131.000000</td>\n",
              "      <td>1.000000</td>\n",
              "      <td>0.000000</td>\n",
              "    </tr>\n",
              "    <tr>\n",
              "      <th>50%</th>\n",
              "      <td>8.000000</td>\n",
              "      <td>1122.000000</td>\n",
              "      <td>113.000000</td>\n",
              "      <td>1.000000</td>\n",
              "      <td>1.000000</td>\n",
              "      <td>1.000000</td>\n",
              "      <td>3.000000</td>\n",
              "      <td>111.000000</td>\n",
              "      <td>135.000000</td>\n",
              "      <td>2.000000</td>\n",
              "      <td>0.000000</td>\n",
              "    </tr>\n",
              "    <tr>\n",
              "      <th>75%</th>\n",
              "      <td>10.000000</td>\n",
              "      <td>1131.000000</td>\n",
              "      <td>114.000000</td>\n",
              "      <td>1.000000</td>\n",
              "      <td>1.000000</td>\n",
              "      <td>1.000000</td>\n",
              "      <td>5.000000</td>\n",
              "      <td>111.000000</td>\n",
              "      <td>137.000000</td>\n",
              "      <td>2.000000</td>\n",
              "      <td>1.000000</td>\n",
              "    </tr>\n",
              "    <tr>\n",
              "      <th>max</th>\n",
              "      <td>15.000000</td>\n",
              "      <td>1220.000000</td>\n",
              "      <td>126.000000</td>\n",
              "      <td>2.000000</td>\n",
              "      <td>3.000000</td>\n",
              "      <td>3.000000</td>\n",
              "      <td>5.000000</td>\n",
              "      <td>120.000000</td>\n",
              "      <td>139.000000</td>\n",
              "      <td>4.000000</td>\n",
              "      <td>1.000000</td>\n",
              "    </tr>\n",
              "  </tbody>\n",
              "</table>\n",
              "</div>\n",
              "      <button class=\"colab-df-convert\" onclick=\"convertToInteractive('df-78266eff-bee5-4345-8b0d-2b6df459ff8a')\"\n",
              "              title=\"Convert this dataframe to an interactive table.\"\n",
              "              style=\"display:none;\">\n",
              "        \n",
              "  <svg xmlns=\"http://www.w3.org/2000/svg\" height=\"24px\"viewBox=\"0 0 24 24\"\n",
              "       width=\"24px\">\n",
              "    <path d=\"M0 0h24v24H0V0z\" fill=\"none\"/>\n",
              "    <path d=\"M18.56 5.44l.94 2.06.94-2.06 2.06-.94-2.06-.94-.94-2.06-.94 2.06-2.06.94zm-11 1L8.5 8.5l.94-2.06 2.06-.94-2.06-.94L8.5 2.5l-.94 2.06-2.06.94zm10 10l.94 2.06.94-2.06 2.06-.94-2.06-.94-.94-2.06-.94 2.06-2.06.94z\"/><path d=\"M17.41 7.96l-1.37-1.37c-.4-.4-.92-.59-1.43-.59-.52 0-1.04.2-1.43.59L10.3 9.45l-7.72 7.72c-.78.78-.78 2.05 0 2.83L4 21.41c.39.39.9.59 1.41.59.51 0 1.02-.2 1.41-.59l7.78-7.78 2.81-2.81c.8-.78.8-2.07 0-2.86zM5.41 20L4 18.59l7.72-7.72 1.47 1.35L5.41 20z\"/>\n",
              "  </svg>\n",
              "      </button>\n",
              "      \n",
              "  <style>\n",
              "    .colab-df-container {\n",
              "      display:flex;\n",
              "      flex-wrap:wrap;\n",
              "      gap: 12px;\n",
              "    }\n",
              "\n",
              "    .colab-df-convert {\n",
              "      background-color: #E8F0FE;\n",
              "      border: none;\n",
              "      border-radius: 50%;\n",
              "      cursor: pointer;\n",
              "      display: none;\n",
              "      fill: #1967D2;\n",
              "      height: 32px;\n",
              "      padding: 0 0 0 0;\n",
              "      width: 32px;\n",
              "    }\n",
              "\n",
              "    .colab-df-convert:hover {\n",
              "      background-color: #E2EBFA;\n",
              "      box-shadow: 0px 1px 2px rgba(60, 64, 67, 0.3), 0px 1px 3px 1px rgba(60, 64, 67, 0.15);\n",
              "      fill: #174EA6;\n",
              "    }\n",
              "\n",
              "    [theme=dark] .colab-df-convert {\n",
              "      background-color: #3B4455;\n",
              "      fill: #D2E3FC;\n",
              "    }\n",
              "\n",
              "    [theme=dark] .colab-df-convert:hover {\n",
              "      background-color: #434B5C;\n",
              "      box-shadow: 0px 1px 3px 1px rgba(0, 0, 0, 0.15);\n",
              "      filter: drop-shadow(0px 1px 2px rgba(0, 0, 0, 0.3));\n",
              "      fill: #FFFFFF;\n",
              "    }\n",
              "  </style>\n",
              "\n",
              "      <script>\n",
              "        const buttonEl =\n",
              "          document.querySelector('#df-78266eff-bee5-4345-8b0d-2b6df459ff8a button.colab-df-convert');\n",
              "        buttonEl.style.display =\n",
              "          google.colab.kernel.accessAllowed ? 'block' : 'none';\n",
              "\n",
              "        async function convertToInteractive(key) {\n",
              "          const element = document.querySelector('#df-78266eff-bee5-4345-8b0d-2b6df459ff8a');\n",
              "          const dataTable =\n",
              "            await google.colab.kernel.invokeFunction('convertToInteractive',\n",
              "                                                     [key], {});\n",
              "          if (!dataTable) return;\n",
              "\n",
              "          const docLinkHtml = 'Like what you see? Visit the ' +\n",
              "            '<a target=\"_blank\" href=https://colab.research.google.com/notebooks/data_table.ipynb>data table notebook</a>'\n",
              "            + ' to learn more about interactive tables.';\n",
              "          element.innerHTML = '';\n",
              "          dataTable['output_type'] = 'display_data';\n",
              "          await google.colab.output.renderOutput(dataTable, element);\n",
              "          const docLink = document.createElement('div');\n",
              "          docLink.innerHTML = docLinkHtml;\n",
              "          element.appendChild(docLink);\n",
              "        }\n",
              "      </script>\n",
              "    </div>\n",
              "  </div>\n",
              "  "
            ]
          },
          "metadata": {},
          "execution_count": 161
        }
      ]
    },
    {
      "cell_type": "code",
      "source": [
        "list(df.columns)"
      ],
      "metadata": {
        "colab": {
          "base_uri": "https://localhost:8080/"
        },
        "id": "gXHgOImWVlD2",
        "outputId": "4aa3bde1-6443-4289-cdd0-212b4dea84bf"
      },
      "execution_count": null,
      "outputs": [
        {
          "output_type": "execute_result",
          "data": {
            "text/plain": [
              "['sex',\n",
              " 'age',\n",
              " 'household_position',\n",
              " 'household_size',\n",
              " 'prev_residence_place',\n",
              " 'citizenship',\n",
              " 'country_birth',\n",
              " 'edu_level',\n",
              " 'economic_status',\n",
              " 'cur_eco_activity',\n",
              " 'marital_status',\n",
              " 'occupation']"
            ]
          },
          "metadata": {},
          "execution_count": 162
        }
      ]
    },
    {
      "cell_type": "code",
      "source": [
        "for col in df:\n",
        "    print(col ,df[col].unique())"
      ],
      "metadata": {
        "colab": {
          "base_uri": "https://localhost:8080/"
        },
        "id": "dBfQLTKhO6fF",
        "outputId": "c6cda487-d97b-4e7d-8b8f-b76e01933c9c"
      },
      "execution_count": null,
      "outputs": [
        {
          "output_type": "stream",
          "name": "stdout",
          "text": [
            "sex ['male' 'female']\n",
            "age [ 6 10  8 12  4 11 14  5  7  9 13 15]\n",
            "household_position [1131 1122 1121 1110 1210 1132 1140 1220]\n",
            "household_size [112 113 114 126 111 125]\n",
            "prev_residence_place [1 2]\n",
            "citizenship [1 2 3]\n",
            "country_birth [1 2 3]\n",
            "edu_level [5 2 1 3 4 0]\n",
            "economic_status [111 120 112]\n",
            "cur_eco_activity [135 122 137 138 131 136 134 139 133 124 111 132]\n",
            "marital_status [1 2 4 3]\n",
            "occupation [1 0]\n"
          ]
        }
      ]
    },
    {
      "cell_type": "markdown",
      "source": [
        ""
      ],
      "metadata": {
        "id": "AUFwFNeBAbNz"
      }
    },
    {
      "cell_type": "markdown",
      "source": [
        "Data Cleaning"
      ],
      "metadata": {
        "id": "O89cl4DyAwBw"
      }
    },
    {
      "cell_type": "code",
      "source": [
        "df['sex'] = df['sex'].replace('male',1)\n",
        "df['sex'] = df['sex'].replace('female',0)"
      ],
      "metadata": {
        "id": "j36RRYiWNdgF"
      },
      "execution_count": null,
      "outputs": []
    },
    {
      "cell_type": "code",
      "source": [
        "df"
      ],
      "metadata": {
        "colab": {
          "base_uri": "https://localhost:8080/",
          "height": 487
        },
        "id": "Nq2YYtShA4G1",
        "outputId": "3ada8ccf-9bf5-4425-fbd1-2db764b31e11"
      },
      "execution_count": null,
      "outputs": [
        {
          "output_type": "execute_result",
          "data": {
            "text/plain": [
              "       sex  age  household_position  household_size  prev_residence_place  \\\n",
              "0        1    6                1131             112                     1   \n",
              "1        0   10                1122             113                     1   \n",
              "2        1    8                1122             113                     1   \n",
              "3        1   12                1121             112                     1   \n",
              "4        0    4                1110             114                     1   \n",
              "...    ...  ...                 ...             ...                   ...   \n",
              "60415    1   10                1122             125                     1   \n",
              "60416    0    5                1110             114                     1   \n",
              "60417    1   11                1121             112                     1   \n",
              "60418    0    7                1131             112                     1   \n",
              "60419    1   12                1121             112                     1   \n",
              "\n",
              "       citizenship  country_birth  edu_level  economic_status  \\\n",
              "0                1              1          5              111   \n",
              "1                1              1          2              111   \n",
              "2                1              1          2              111   \n",
              "3                1              1          1              111   \n",
              "4                1              1          2              111   \n",
              "...            ...            ...        ...              ...   \n",
              "60415            1              1          3              111   \n",
              "60416            1              1          5              111   \n",
              "60417            1              1          5              111   \n",
              "60418            1              1          5              111   \n",
              "60419            1              1          5              111   \n",
              "\n",
              "       cur_eco_activity  marital_status  occupation  \n",
              "0                   135               1           1  \n",
              "1                   122               2           0  \n",
              "2                   122               2           1  \n",
              "3                   137               2           0  \n",
              "4                   138               1           0  \n",
              "...                 ...             ...         ...  \n",
              "60415               131               2           1  \n",
              "60416               135               1           0  \n",
              "60417               135               2           1  \n",
              "60418               137               1           1  \n",
              "60419               137               2           1  \n",
              "\n",
              "[60420 rows x 12 columns]"
            ],
            "text/html": [
              "\n",
              "  <div id=\"df-383d5061-a08f-4f2b-9ed7-a090f9249ba2\">\n",
              "    <div class=\"colab-df-container\">\n",
              "      <div>\n",
              "<style scoped>\n",
              "    .dataframe tbody tr th:only-of-type {\n",
              "        vertical-align: middle;\n",
              "    }\n",
              "\n",
              "    .dataframe tbody tr th {\n",
              "        vertical-align: top;\n",
              "    }\n",
              "\n",
              "    .dataframe thead th {\n",
              "        text-align: right;\n",
              "    }\n",
              "</style>\n",
              "<table border=\"1\" class=\"dataframe\">\n",
              "  <thead>\n",
              "    <tr style=\"text-align: right;\">\n",
              "      <th></th>\n",
              "      <th>sex</th>\n",
              "      <th>age</th>\n",
              "      <th>household_position</th>\n",
              "      <th>household_size</th>\n",
              "      <th>prev_residence_place</th>\n",
              "      <th>citizenship</th>\n",
              "      <th>country_birth</th>\n",
              "      <th>edu_level</th>\n",
              "      <th>economic_status</th>\n",
              "      <th>cur_eco_activity</th>\n",
              "      <th>marital_status</th>\n",
              "      <th>occupation</th>\n",
              "    </tr>\n",
              "  </thead>\n",
              "  <tbody>\n",
              "    <tr>\n",
              "      <th>0</th>\n",
              "      <td>1</td>\n",
              "      <td>6</td>\n",
              "      <td>1131</td>\n",
              "      <td>112</td>\n",
              "      <td>1</td>\n",
              "      <td>1</td>\n",
              "      <td>1</td>\n",
              "      <td>5</td>\n",
              "      <td>111</td>\n",
              "      <td>135</td>\n",
              "      <td>1</td>\n",
              "      <td>1</td>\n",
              "    </tr>\n",
              "    <tr>\n",
              "      <th>1</th>\n",
              "      <td>0</td>\n",
              "      <td>10</td>\n",
              "      <td>1122</td>\n",
              "      <td>113</td>\n",
              "      <td>1</td>\n",
              "      <td>1</td>\n",
              "      <td>1</td>\n",
              "      <td>2</td>\n",
              "      <td>111</td>\n",
              "      <td>122</td>\n",
              "      <td>2</td>\n",
              "      <td>0</td>\n",
              "    </tr>\n",
              "    <tr>\n",
              "      <th>2</th>\n",
              "      <td>1</td>\n",
              "      <td>8</td>\n",
              "      <td>1122</td>\n",
              "      <td>113</td>\n",
              "      <td>1</td>\n",
              "      <td>1</td>\n",
              "      <td>1</td>\n",
              "      <td>2</td>\n",
              "      <td>111</td>\n",
              "      <td>122</td>\n",
              "      <td>2</td>\n",
              "      <td>1</td>\n",
              "    </tr>\n",
              "    <tr>\n",
              "      <th>3</th>\n",
              "      <td>1</td>\n",
              "      <td>12</td>\n",
              "      <td>1121</td>\n",
              "      <td>112</td>\n",
              "      <td>1</td>\n",
              "      <td>1</td>\n",
              "      <td>1</td>\n",
              "      <td>1</td>\n",
              "      <td>111</td>\n",
              "      <td>137</td>\n",
              "      <td>2</td>\n",
              "      <td>0</td>\n",
              "    </tr>\n",
              "    <tr>\n",
              "      <th>4</th>\n",
              "      <td>0</td>\n",
              "      <td>4</td>\n",
              "      <td>1110</td>\n",
              "      <td>114</td>\n",
              "      <td>1</td>\n",
              "      <td>1</td>\n",
              "      <td>1</td>\n",
              "      <td>2</td>\n",
              "      <td>111</td>\n",
              "      <td>138</td>\n",
              "      <td>1</td>\n",
              "      <td>0</td>\n",
              "    </tr>\n",
              "    <tr>\n",
              "      <th>...</th>\n",
              "      <td>...</td>\n",
              "      <td>...</td>\n",
              "      <td>...</td>\n",
              "      <td>...</td>\n",
              "      <td>...</td>\n",
              "      <td>...</td>\n",
              "      <td>...</td>\n",
              "      <td>...</td>\n",
              "      <td>...</td>\n",
              "      <td>...</td>\n",
              "      <td>...</td>\n",
              "      <td>...</td>\n",
              "    </tr>\n",
              "    <tr>\n",
              "      <th>60415</th>\n",
              "      <td>1</td>\n",
              "      <td>10</td>\n",
              "      <td>1122</td>\n",
              "      <td>125</td>\n",
              "      <td>1</td>\n",
              "      <td>1</td>\n",
              "      <td>1</td>\n",
              "      <td>3</td>\n",
              "      <td>111</td>\n",
              "      <td>131</td>\n",
              "      <td>2</td>\n",
              "      <td>1</td>\n",
              "    </tr>\n",
              "    <tr>\n",
              "      <th>60416</th>\n",
              "      <td>0</td>\n",
              "      <td>5</td>\n",
              "      <td>1110</td>\n",
              "      <td>114</td>\n",
              "      <td>1</td>\n",
              "      <td>1</td>\n",
              "      <td>1</td>\n",
              "      <td>5</td>\n",
              "      <td>111</td>\n",
              "      <td>135</td>\n",
              "      <td>1</td>\n",
              "      <td>0</td>\n",
              "    </tr>\n",
              "    <tr>\n",
              "      <th>60417</th>\n",
              "      <td>1</td>\n",
              "      <td>11</td>\n",
              "      <td>1121</td>\n",
              "      <td>112</td>\n",
              "      <td>1</td>\n",
              "      <td>1</td>\n",
              "      <td>1</td>\n",
              "      <td>5</td>\n",
              "      <td>111</td>\n",
              "      <td>135</td>\n",
              "      <td>2</td>\n",
              "      <td>1</td>\n",
              "    </tr>\n",
              "    <tr>\n",
              "      <th>60418</th>\n",
              "      <td>0</td>\n",
              "      <td>7</td>\n",
              "      <td>1131</td>\n",
              "      <td>112</td>\n",
              "      <td>1</td>\n",
              "      <td>1</td>\n",
              "      <td>1</td>\n",
              "      <td>5</td>\n",
              "      <td>111</td>\n",
              "      <td>137</td>\n",
              "      <td>1</td>\n",
              "      <td>1</td>\n",
              "    </tr>\n",
              "    <tr>\n",
              "      <th>60419</th>\n",
              "      <td>1</td>\n",
              "      <td>12</td>\n",
              "      <td>1121</td>\n",
              "      <td>112</td>\n",
              "      <td>1</td>\n",
              "      <td>1</td>\n",
              "      <td>1</td>\n",
              "      <td>5</td>\n",
              "      <td>111</td>\n",
              "      <td>137</td>\n",
              "      <td>2</td>\n",
              "      <td>1</td>\n",
              "    </tr>\n",
              "  </tbody>\n",
              "</table>\n",
              "<p>60420 rows × 12 columns</p>\n",
              "</div>\n",
              "      <button class=\"colab-df-convert\" onclick=\"convertToInteractive('df-383d5061-a08f-4f2b-9ed7-a090f9249ba2')\"\n",
              "              title=\"Convert this dataframe to an interactive table.\"\n",
              "              style=\"display:none;\">\n",
              "        \n",
              "  <svg xmlns=\"http://www.w3.org/2000/svg\" height=\"24px\"viewBox=\"0 0 24 24\"\n",
              "       width=\"24px\">\n",
              "    <path d=\"M0 0h24v24H0V0z\" fill=\"none\"/>\n",
              "    <path d=\"M18.56 5.44l.94 2.06.94-2.06 2.06-.94-2.06-.94-.94-2.06-.94 2.06-2.06.94zm-11 1L8.5 8.5l.94-2.06 2.06-.94-2.06-.94L8.5 2.5l-.94 2.06-2.06.94zm10 10l.94 2.06.94-2.06 2.06-.94-2.06-.94-.94-2.06-.94 2.06-2.06.94z\"/><path d=\"M17.41 7.96l-1.37-1.37c-.4-.4-.92-.59-1.43-.59-.52 0-1.04.2-1.43.59L10.3 9.45l-7.72 7.72c-.78.78-.78 2.05 0 2.83L4 21.41c.39.39.9.59 1.41.59.51 0 1.02-.2 1.41-.59l7.78-7.78 2.81-2.81c.8-.78.8-2.07 0-2.86zM5.41 20L4 18.59l7.72-7.72 1.47 1.35L5.41 20z\"/>\n",
              "  </svg>\n",
              "      </button>\n",
              "      \n",
              "  <style>\n",
              "    .colab-df-container {\n",
              "      display:flex;\n",
              "      flex-wrap:wrap;\n",
              "      gap: 12px;\n",
              "    }\n",
              "\n",
              "    .colab-df-convert {\n",
              "      background-color: #E8F0FE;\n",
              "      border: none;\n",
              "      border-radius: 50%;\n",
              "      cursor: pointer;\n",
              "      display: none;\n",
              "      fill: #1967D2;\n",
              "      height: 32px;\n",
              "      padding: 0 0 0 0;\n",
              "      width: 32px;\n",
              "    }\n",
              "\n",
              "    .colab-df-convert:hover {\n",
              "      background-color: #E2EBFA;\n",
              "      box-shadow: 0px 1px 2px rgba(60, 64, 67, 0.3), 0px 1px 3px 1px rgba(60, 64, 67, 0.15);\n",
              "      fill: #174EA6;\n",
              "    }\n",
              "\n",
              "    [theme=dark] .colab-df-convert {\n",
              "      background-color: #3B4455;\n",
              "      fill: #D2E3FC;\n",
              "    }\n",
              "\n",
              "    [theme=dark] .colab-df-convert:hover {\n",
              "      background-color: #434B5C;\n",
              "      box-shadow: 0px 1px 3px 1px rgba(0, 0, 0, 0.15);\n",
              "      filter: drop-shadow(0px 1px 2px rgba(0, 0, 0, 0.3));\n",
              "      fill: #FFFFFF;\n",
              "    }\n",
              "  </style>\n",
              "\n",
              "      <script>\n",
              "        const buttonEl =\n",
              "          document.querySelector('#df-383d5061-a08f-4f2b-9ed7-a090f9249ba2 button.colab-df-convert');\n",
              "        buttonEl.style.display =\n",
              "          google.colab.kernel.accessAllowed ? 'block' : 'none';\n",
              "\n",
              "        async function convertToInteractive(key) {\n",
              "          const element = document.querySelector('#df-383d5061-a08f-4f2b-9ed7-a090f9249ba2');\n",
              "          const dataTable =\n",
              "            await google.colab.kernel.invokeFunction('convertToInteractive',\n",
              "                                                     [key], {});\n",
              "          if (!dataTable) return;\n",
              "\n",
              "          const docLinkHtml = 'Like what you see? Visit the ' +\n",
              "            '<a target=\"_blank\" href=https://colab.research.google.com/notebooks/data_table.ipynb>data table notebook</a>'\n",
              "            + ' to learn more about interactive tables.';\n",
              "          element.innerHTML = '';\n",
              "          dataTable['output_type'] = 'display_data';\n",
              "          await google.colab.output.renderOutput(dataTable, element);\n",
              "          const docLink = document.createElement('div');\n",
              "          docLink.innerHTML = docLinkHtml;\n",
              "          element.appendChild(docLink);\n",
              "        }\n",
              "      </script>\n",
              "    </div>\n",
              "  </div>\n",
              "  "
            ]
          },
          "metadata": {},
          "execution_count": 165
        }
      ]
    },
    {
      "cell_type": "code",
      "source": [
        "sex = df.groupby('sex')"
      ],
      "metadata": {
        "id": "vb6WZ1vxBFNn"
      },
      "execution_count": null,
      "outputs": []
    },
    {
      "cell_type": "code",
      "source": [
        "count_male = len(sex.get_group(1))\n",
        "count_female = len(sex.get_group(0))"
      ],
      "metadata": {
        "id": "kzvNmwPDBcfQ"
      },
      "execution_count": null,
      "outputs": []
    },
    {
      "cell_type": "code",
      "source": [
        "count_female"
      ],
      "metadata": {
        "colab": {
          "base_uri": "https://localhost:8080/"
        },
        "id": "rUYvlvDQII4W",
        "outputId": "a9417503-4bf2-4bc7-b823-559d43615ae3"
      },
      "execution_count": null,
      "outputs": [
        {
          "output_type": "execute_result",
          "data": {
            "text/plain": [
              "30273"
            ]
          },
          "metadata": {},
          "execution_count": 168
        }
      ]
    },
    {
      "cell_type": "code",
      "source": [
        "count_male"
      ],
      "metadata": {
        "colab": {
          "base_uri": "https://localhost:8080/"
        },
        "id": "UgCwugiRIN6u",
        "outputId": "ea2e2ac6-4fbf-4a95-ac64-4e17f53c8b5c"
      },
      "execution_count": null,
      "outputs": [
        {
          "output_type": "execute_result",
          "data": {
            "text/plain": [
              "30147"
            ]
          },
          "metadata": {},
          "execution_count": 169
        }
      ]
    },
    {
      "cell_type": "markdown",
      "source": [
        "Protected Value Analysis"
      ],
      "metadata": {
        "id": "NodbaUxucoBK"
      }
    },
    {
      "cell_type": "code",
      "source": [
        "size = df.shape[0]\n",
        "length = len(df.columns)\n",
        "#10 fold classification\n",
        "fold_size = size / 10\n",
        "start = 0\n",
        "end = int(fold_size)\n",
        "\n",
        "FinalOutputAccuracy =[]\n",
        "male_accuracy = []\n",
        "female_accuracy = []\n",
        "\n",
        "tp_overall = []\n",
        "tn_overall = []\n",
        "fp_overall = []\n",
        "fn_overall = []\n",
        "\n",
        "tp_male_overall = []\n",
        "tn_male_overall = []\n",
        "fp_male_overall = []\n",
        "fn_male_overall = []\n",
        "\n",
        "tp_female_overall = []\n",
        "tn_female_overall = []\n",
        "fp_female_overall = []\n",
        "fn_female_overall = []\n",
        "i=1\n",
        "while end <= size:\n",
        "  print(\"-----------------------TRAINING SET - %d-----------------------\" %(i))\n",
        "  train_df = pd.concat([df.loc[0:start],df.loc[end:]])\n",
        "  print(train_df.shape)\n",
        "  test_df = df.loc[start:end]\n",
        "  #training dataset\n",
        "  train_x = train_df.iloc[:,:length-1]\n",
        "  train_y = train_df.iloc[:,length-1]\n",
        "  #overall testing set\n",
        "  test_x = test_df.iloc[:,:length-1]\n",
        "  test_y = test_df.iloc[:,length-1]\n",
        "  #male testing set\n",
        "  test_df_male = test_df[test_df['sex'] == 1]\n",
        "  test_x_male = test_df_male.iloc[:,:length-1]\n",
        "  test_y_male = test_df_male.iloc[:,length-1]\n",
        "  #female testing set\n",
        "  test_df_female = test_df[test_df['sex'] == 0]\n",
        "  test_x_female = test_df_female.iloc[:,:length-1]\n",
        "  test_y_female = test_df_female.iloc[:,length-1]\n",
        "\n",
        "  forest = RandomForestClassifier(random_state=21,n_estimators=9)\n",
        "\n",
        "  #model trained\n",
        "  forest.fit(train_x,train_y)\n",
        "\n",
        "  #overall accuracy\n",
        "  acc = forest.score(test_x, test_y)\n",
        "  predictions = forest.predict(test_x)\n",
        "\n",
        "  tn, fp, fn, tp = confusion_matrix(test_y, predictions).ravel()\n",
        "  tp_overall.append(tp)\n",
        "  tn_overall.append(tn)\n",
        "  fp_overall.append(fp)\n",
        "  fn_overall.append(fn)\n",
        "\n",
        "  print(\"Overall acc: \",acc)\n",
        "  FinalOutputAccuracy.append(acc)\n",
        "\n",
        "  #male accuracy\n",
        "  male_acc = forest.score(test_x_male, test_y_male)\n",
        "  predictions_male = forest.predict(test_x_male)\n",
        "\n",
        "  tn_m, fp_m, fn_m, tp_m = confusion_matrix(test_y_male, predictions_male).ravel()\n",
        "  tp_male_overall.append(tp_m)\n",
        "  tn_male_overall.append(tn_m)\n",
        "  fp_male_overall.append(fp_m)\n",
        "  fn_male_overall.append(fn_m)\n",
        "\n",
        "  print(\"Male acc: \",male_acc)\n",
        "  male_accuracy.append(male_acc)\n",
        "\n",
        "  #female accuracy\n",
        "  female_acc = forest.score(test_x_female, test_y_female)\n",
        "  predictions_female = forest.predict(test_x_female)\n",
        "\n",
        "  tn_f, fp_f, fn_f, tp_f = confusion_matrix(test_y_female, predictions_female).ravel()\n",
        "  tp_female_overall.append(tp_f)\n",
        "  tn_female_overall.append(tn_f)\n",
        "  fp_female_overall.append(fp_f)\n",
        "  fn_female_overall.append(fn_f)\n",
        "\n",
        "  print(\"Female acc: \",female_acc)\n",
        "  female_accuracy.append(female_acc)\n",
        "  \n",
        "  start = start + fold_size\n",
        "  end = end + fold_size\n",
        "  i= i+1"
      ],
      "metadata": {
        "colab": {
          "base_uri": "https://localhost:8080/"
        },
        "id": "Ms-IYu0-IO9k",
        "outputId": "b51c8d83-f949-410c-a224-11926475b3ee"
      },
      "execution_count": null,
      "outputs": [
        {
          "output_type": "stream",
          "name": "stdout",
          "text": [
            "-----------------------TRAINING SET - 1-----------------------\n",
            "(54379, 12)\n",
            "Overall acc:  0.819956975012411\n",
            "Male acc:  0.7817824377457405\n",
            "Female acc:  0.8589100635239051\n",
            "-----------------------TRAINING SET - 2-----------------------\n",
            "(54379, 12)\n",
            "Overall acc:  0.8239285123283138\n",
            "Male acc:  0.7796833773087071\n",
            "Female acc:  0.8684822318166722\n",
            "-----------------------TRAINING SET - 3-----------------------\n",
            "(54379, 12)\n",
            "Overall acc:  0.829554856859176\n",
            "Male acc:  0.789561170212766\n",
            "Female acc:  0.8691927512355848\n",
            "-----------------------TRAINING SET - 4-----------------------\n",
            "(54379, 12)\n",
            "Overall acc:  0.8272381267582327\n",
            "Male acc:  0.7906281156530409\n",
            "Female acc:  0.8635464733025708\n",
            "-----------------------TRAINING SET - 5-----------------------\n",
            "(54379, 12)\n",
            "Overall acc:  0.823101108720834\n",
            "Male acc:  0.7798994974874371\n",
            "Female acc:  0.8652714192282538\n",
            "-----------------------TRAINING SET - 6-----------------------\n",
            "(54379, 12)\n",
            "Overall acc:  0.8154889955320205\n",
            "Male acc:  0.7777049180327869\n",
            "Female acc:  0.8539926495155362\n",
            "-----------------------TRAINING SET - 7-----------------------\n",
            "(54379, 12)\n",
            "Overall acc:  0.819956975012411\n",
            "Male acc:  0.7835771276595744\n",
            "Female acc:  0.8560131795716639\n",
            "-----------------------TRAINING SET - 8-----------------------\n",
            "(54379, 12)\n",
            "Overall acc:  0.8280655303657124\n",
            "Male acc:  0.7850594227504244\n",
            "Female acc:  0.8689477081988379\n",
            "-----------------------TRAINING SET - 9-----------------------\n",
            "(54379, 12)\n",
            "Overall acc:  0.8257488002647692\n",
            "Male acc:  0.7815344603381015\n",
            "Female acc:  0.871587462082912\n",
            "-----------------------TRAINING SET - 10-----------------------\n",
            "(54379, 12)\n",
            "Overall acc:  0.8225753061900033\n",
            "Male acc:  0.7883456128600134\n",
            "Female acc:  0.856020942408377\n"
          ]
        }
      ]
    },
    {
      "cell_type": "markdown",
      "source": [
        "analysis"
      ],
      "metadata": {
        "id": "96Egin21gULZ"
      }
    },
    {
      "cell_type": "code",
      "source": [
        "avg_Accuracy = sum(FinalOutputAccuracy)/len(FinalOutputAccuracy)"
      ],
      "metadata": {
        "id": "qwWbLQhUgTI_"
      },
      "execution_count": null,
      "outputs": []
    },
    {
      "cell_type": "code",
      "source": [
        "avg_Accuracy"
      ],
      "metadata": {
        "colab": {
          "base_uri": "https://localhost:8080/"
        },
        "id": "cfP_0KhnikOv",
        "outputId": "eeae8edf-4168-491d-d4b5-37bddf9731b2"
      },
      "execution_count": null,
      "outputs": [
        {
          "output_type": "execute_result",
          "data": {
            "text/plain": [
              "0.8235615187043883"
            ]
          },
          "metadata": {},
          "execution_count": 172
        }
      ]
    },
    {
      "cell_type": "code",
      "source": [
        "avg_Accuracy_male = sum(male_accuracy)/len(male_accuracy)"
      ],
      "metadata": {
        "id": "2OJKWeu2h5_-"
      },
      "execution_count": null,
      "outputs": []
    },
    {
      "cell_type": "code",
      "source": [
        "avg_Accuracy_male"
      ],
      "metadata": {
        "colab": {
          "base_uri": "https://localhost:8080/"
        },
        "id": "C2DSoI2jinn_",
        "outputId": "d0d8a7d8-5ea0-4e24-c8df-6ad8c891034f"
      },
      "execution_count": null,
      "outputs": [
        {
          "output_type": "execute_result",
          "data": {
            "text/plain": [
              "0.7837776140048592"
            ]
          },
          "metadata": {},
          "execution_count": 174
        }
      ]
    },
    {
      "cell_type": "code",
      "source": [
        "avg_Accuracy_female = sum(female_accuracy)/len(female_accuracy)"
      ],
      "metadata": {
        "id": "qG6zB5IWiO3E"
      },
      "execution_count": null,
      "outputs": []
    },
    {
      "cell_type": "code",
      "source": [
        "avg_Accuracy_female"
      ],
      "metadata": {
        "colab": {
          "base_uri": "https://localhost:8080/"
        },
        "id": "HBLfeXFFiqGr",
        "outputId": "8649b371-d716-4dff-932f-31638843831d"
      },
      "execution_count": null,
      "outputs": [
        {
          "output_type": "execute_result",
          "data": {
            "text/plain": [
              "0.8631964880884313"
            ]
          },
          "metadata": {},
          "execution_count": 176
        }
      ]
    },
    {
      "cell_type": "markdown",
      "source": [
        "Analytics without the protected variable"
      ],
      "metadata": {
        "id": "vqTdpQ8ySf-a"
      }
    },
    {
      "cell_type": "code",
      "source": [
        "df = df.drop('household_size', 1)"
      ],
      "metadata": {
        "colab": {
          "base_uri": "https://localhost:8080/"
        },
        "id": "6GF0xSZjdqlr",
        "outputId": "ecb04a30-336d-4b5a-ed29-cc139318d22a"
      },
      "execution_count": null,
      "outputs": [
        {
          "output_type": "stream",
          "name": "stderr",
          "text": [
            "/usr/local/lib/python3.7/dist-packages/ipykernel_launcher.py:1: FutureWarning: In a future version of pandas all arguments of DataFrame.drop except for the argument 'labels' will be keyword-only\n",
            "  \"\"\"Entry point for launching an IPython kernel.\n"
          ]
        }
      ]
    },
    {
      "cell_type": "code",
      "source": [
        "df = df.drop('household_position', 1)"
      ],
      "metadata": {
        "colab": {
          "base_uri": "https://localhost:8080/"
        },
        "id": "tjPNWPtHSHnw",
        "outputId": "30f1af14-38ca-4201-cc41-58a018da3806"
      },
      "execution_count": null,
      "outputs": [
        {
          "output_type": "stream",
          "name": "stderr",
          "text": [
            "/usr/local/lib/python3.7/dist-packages/ipykernel_launcher.py:1: FutureWarning: In a future version of pandas all arguments of DataFrame.drop except for the argument 'labels' will be keyword-only\n",
            "  \"\"\"Entry point for launching an IPython kernel.\n"
          ]
        }
      ]
    },
    {
      "cell_type": "code",
      "source": [
        "size = df.shape[0]\n",
        "length = len(df.columns)\n",
        "#10 fold classification\n",
        "fold_size = size / 10\n",
        "start = 0\n",
        "end = int(fold_size)\n",
        "\n",
        "FinalOutputAccuracy_dropped =[]\n",
        "male_accuracy_dropped = []\n",
        "female_accuracy_dropped = []\n",
        "\n",
        "tp_overall_dropped = []\n",
        "tn_overall_dropped = []\n",
        "fp_overall_dropped = []\n",
        "fn_overall_dropped = []\n",
        "\n",
        "tp_male_overall_dropped = []\n",
        "tn_male_overall_dropped = []\n",
        "fp_male_overall_dropped = []\n",
        "fn_male_overall_dropped = []\n",
        "\n",
        "tp_female_overall_dropped = []\n",
        "tn_female_overall_dropped = []\n",
        "fp_female_overall_dropped = []\n",
        "fn_female_overall_dropped = []\n",
        "i=1\n",
        "while end <= size:\n",
        "  print(\"-----------------------TRAINING SET DROPPED- %d-----------------------\" %(i))\n",
        "  train_df = pd.concat([df.loc[0:start],df.loc[end:]])\n",
        "  print(train_df.shape)\n",
        "  test_df = df.loc[start:end]\n",
        "  #training dataset\n",
        "  train_x = train_df.iloc[:,1:length-1]\n",
        "  train_y = train_df.iloc[:,length-1]\n",
        "  #overall testing set\n",
        "  test_x = test_df.iloc[:,1:length-1]\n",
        "  test_y = test_df.iloc[:,length-1]\n",
        "  #male testing set\n",
        "  test_df_male = test_df[test_df['sex'] == 1]\n",
        "  test_x_male = test_df_male.iloc[:,1:length-1]\n",
        "  test_y_male = test_df_male.iloc[:,length-1]\n",
        "  #female testing set\n",
        "  test_df_female = test_df[test_df['sex'] == 0]\n",
        "  test_x_female = test_df_female.iloc[:,1:length-1]\n",
        "  test_y_female = test_df_female.iloc[:,length-1]\n",
        "\n",
        "  forest = RandomForestClassifier(random_state=21,n_estimators=9)\n",
        "\n",
        "  #model trained\n",
        "  forest.fit(train_x,train_y)\n",
        "\n",
        "  #overall accuracy\n",
        "  acc = forest.score(test_x, test_y)\n",
        "  predictions = forest.predict(test_x)\n",
        "\n",
        "  tn, fp, fn, tp = confusion_matrix(test_y, predictions).ravel()\n",
        "  tp_overall_dropped.append(tp)\n",
        "  tn_overall_dropped.append(tn)\n",
        "  fp_overall_dropped.append(fp)\n",
        "  fn_overall_dropped.append(fn)\n",
        "\n",
        "  print(\"Overall acc: \",acc)\n",
        "  FinalOutputAccuracy_dropped.append(acc)\n",
        "\n",
        "  #male accuracy\n",
        "  male_acc = forest.score(test_x_male, test_y_male)\n",
        "  predictions_male = forest.predict(test_x_male)\n",
        "\n",
        "  tn_m, fp_m, fn_m, tp_m = confusion_matrix(test_y_male, predictions_male).ravel()\n",
        "  tp_male_overall_dropped.append(tp_m)\n",
        "  tn_male_overall_dropped.append(tn_m)\n",
        "  fp_male_overall_dropped.append(fp_m)\n",
        "  fn_male_overall_dropped.append(fn_m)\n",
        "\n",
        "  print(\"Male acc: \",male_acc)\n",
        "  male_accuracy_dropped.append(male_acc)\n",
        "\n",
        "  #female accuracy\n",
        "  female_acc = forest.score(test_x_female, test_y_female)\n",
        "  predictions_female = forest.predict(test_x_female)\n",
        "\n",
        "  tn_f, fp_f, fn_f, tp_f = confusion_matrix(test_y_female, predictions_female).ravel()\n",
        "  tp_female_overall_dropped.append(tp_f)\n",
        "  tn_female_overall_dropped.append(tn_f)\n",
        "  fp_female_overall_dropped.append(fp_f)\n",
        "  fn_female_overall_dropped.append(fn_f)\n",
        "\n",
        "  print(\"Female acc: Dropped \",female_acc)\n",
        "  female_accuracy_dropped.append(female_acc)\n",
        "  \n",
        "  start = start + fold_size\n",
        "  end = end + fold_size\n",
        "  i= i+1"
      ],
      "metadata": {
        "colab": {
          "base_uri": "https://localhost:8080/"
        },
        "id": "blKxMQQ6SubX",
        "outputId": "457b8cf7-5016-430f-834f-114fcc58891e"
      },
      "execution_count": null,
      "outputs": [
        {
          "output_type": "stream",
          "name": "stdout",
          "text": [
            "-----------------------TRAINING SET DROPPED- 1-----------------------\n",
            "(54379, 10)\n",
            "Overall acc:  0.8143306304815489\n",
            "Male acc:  0.7732634338138925\n",
            "Female acc:  0.8562353727850217\n",
            "-----------------------TRAINING SET DROPPED- 2-----------------------\n",
            "(54379, 10)\n",
            "Overall acc:  0.8111864967731259\n",
            "Male acc:  0.7701187335092349\n",
            "Female acc:  0.852540684158087\n",
            "-----------------------TRAINING SET DROPPED- 3-----------------------\n",
            "(54379, 10)\n",
            "Overall acc:  0.817309283468476\n",
            "Male acc:  0.7789228723404256\n",
            "Female acc:  0.8553542009884679\n",
            "-----------------------TRAINING SET DROPPED- 4-----------------------\n",
            "(54379, 10)\n",
            "Overall acc:  0.8161509184180044\n",
            "Male acc:  0.7776669990029911\n",
            "Female acc:  0.8543177323665129\n",
            "-----------------------TRAINING SET DROPPED- 5-----------------------\n",
            "(54379, 10)\n",
            "Overall acc:  0.817309283468476\n",
            "Male acc:  0.7809045226130653\n",
            "Female acc:  0.8528449967298888\n",
            "-----------------------TRAINING SET DROPPED- 6-----------------------\n",
            "(54379, 10)\n",
            "Overall acc:  0.8149925533675327\n",
            "Male acc:  0.7868852459016393\n",
            "Female acc:  0.8436351486802539\n",
            "-----------------------TRAINING SET DROPPED- 7-----------------------\n",
            "(54379, 10)\n",
            "Overall acc:  0.8176402449114678\n",
            "Male acc:  0.788563829787234\n",
            "Female acc:  0.8464579901153213\n",
            "-----------------------TRAINING SET DROPPED- 8-----------------------\n",
            "(54379, 10)\n",
            "Overall acc:  0.8146615919245408\n",
            "Male acc:  0.7789473684210526\n",
            "Female acc:  0.8486120077469335\n",
            "-----------------------TRAINING SET DROPPED- 9-----------------------\n",
            "(54379, 10)\n",
            "Overall acc:  0.8184676485189475\n",
            "Male acc:  0.7698309492847855\n",
            "Female acc:  0.8688911358274352\n",
            "-----------------------TRAINING SET DROPPED- 10-----------------------\n",
            "(54379, 10)\n",
            "Overall acc:  0.8174445547831843\n",
            "Male acc:  0.7937039517749498\n",
            "Female acc:  0.8406413612565445\n"
          ]
        }
      ]
    },
    {
      "cell_type": "code",
      "source": [
        "avg_Accuracy_dropped = sum(FinalOutputAccuracy_dropped)/len(FinalOutputAccuracy_dropped)"
      ],
      "metadata": {
        "id": "19KUsUpIdGAa"
      },
      "execution_count": null,
      "outputs": []
    },
    {
      "cell_type": "code",
      "source": [
        "avg_Accuracy_dropped"
      ],
      "metadata": {
        "colab": {
          "base_uri": "https://localhost:8080/"
        },
        "id": "NlYzz_OqdKKl",
        "outputId": "9d5d7944-7c8c-43a5-c233-85d778758ea6"
      },
      "execution_count": null,
      "outputs": [
        {
          "output_type": "execute_result",
          "data": {
            "text/plain": [
              "0.8159493206115304"
            ]
          },
          "metadata": {},
          "execution_count": 181
        }
      ]
    },
    {
      "cell_type": "code",
      "source": [
        "avg_Accuracy_male_dropped = sum(male_accuracy_dropped)/len(male_accuracy_dropped)"
      ],
      "metadata": {
        "id": "6Ycg9WQ1klVA"
      },
      "execution_count": null,
      "outputs": []
    },
    {
      "cell_type": "code",
      "source": [
        "avg_Accuracy_male_dropped"
      ],
      "metadata": {
        "colab": {
          "base_uri": "https://localhost:8080/"
        },
        "id": "HIrGYrT3kssD",
        "outputId": "4a2a5ec4-ff2e-4716-81c6-216d37b84782"
      },
      "execution_count": null,
      "outputs": [
        {
          "output_type": "execute_result",
          "data": {
            "text/plain": [
              "0.7798807906449271"
            ]
          },
          "metadata": {},
          "execution_count": 183
        }
      ]
    },
    {
      "cell_type": "code",
      "source": [
        "avg_Accuracy_female_dropped = sum(female_accuracy_dropped)/len(female_accuracy_dropped)"
      ],
      "metadata": {
        "id": "sRR0iu1Oky00"
      },
      "execution_count": null,
      "outputs": []
    },
    {
      "cell_type": "code",
      "source": [
        "avg_Accuracy_female_dropped"
      ],
      "metadata": {
        "colab": {
          "base_uri": "https://localhost:8080/"
        },
        "id": "GAHF_fmDk69U",
        "outputId": "5154d0a7-b6cc-4a93-abfe-314a217a2b57"
      },
      "execution_count": null,
      "outputs": [
        {
          "output_type": "execute_result",
          "data": {
            "text/plain": [
              "0.8519530630654467"
            ]
          },
          "metadata": {},
          "execution_count": 186
        }
      ]
    },
    {
      "cell_type": "markdown",
      "source": [
        "Analysis for Question 7-10"
      ],
      "metadata": {
        "id": "8zyVq9vbtf9U"
      }
    },
    {
      "cell_type": "code",
      "source": [
        "a =sum(tp_overall)/len(tp_overall) + sum(tn_overall)/len(tn_overall)"
      ],
      "metadata": {
        "id": "vxRQ5HzUq5PH"
      },
      "execution_count": null,
      "outputs": []
    },
    {
      "cell_type": "code",
      "source": [
        "b =sum(fp_overall)/len(fp_overall) + sum(fn_overall)/len(fn_overall)"
      ],
      "metadata": {
        "id": "-S7VvwaD9sJ9"
      },
      "execution_count": null,
      "outputs": []
    },
    {
      "cell_type": "code",
      "source": [
        "d= a/(a+b)"
      ],
      "metadata": {
        "id": "4ElPcJNtGDmV"
      },
      "execution_count": null,
      "outputs": []
    },
    {
      "cell_type": "code",
      "source": [
        "d"
      ],
      "metadata": {
        "id": "C9iTGv7zHaQV",
        "outputId": "3fe764a4-30e3-45bb-9055-afe127e9c5b4",
        "colab": {
          "base_uri": "https://localhost:8080/"
        }
      },
      "execution_count": null,
      "outputs": [
        {
          "output_type": "execute_result",
          "data": {
            "text/plain": [
              "0.8235615350245743"
            ]
          },
          "metadata": {},
          "execution_count": 219
        }
      ]
    },
    {
      "cell_type": "code",
      "source": [
        "sum(tp_male_overall)/len(tp_male_overall) + sum(tn_male_overall)/len(tn_male_overall)"
      ],
      "metadata": {
        "colab": {
          "base_uri": "https://localhost:8080/"
        },
        "id": "idzxH4DSrfYU",
        "outputId": "b6274138-3af7-4ce7-f3ad-b939d730077e"
      },
      "execution_count": null,
      "outputs": [
        {
          "output_type": "execute_result",
          "data": {
            "text/plain": [
              "2363.1"
            ]
          },
          "metadata": {},
          "execution_count": 189
        }
      ]
    },
    {
      "cell_type": "code",
      "source": [
        "sum(fp_male_overall)/len(fp_male_overall) + sum(fn_male_overall)/len(fn_male_overall)"
      ],
      "metadata": {
        "colab": {
          "base_uri": "https://localhost:8080/"
        },
        "id": "ju6bjiaHrhsi",
        "outputId": "17889aa0-d9f0-46e6-a0ef-4eeb3822da00"
      },
      "execution_count": null,
      "outputs": [
        {
          "output_type": "execute_result",
          "data": {
            "text/plain": [
              "652.0"
            ]
          },
          "metadata": {},
          "execution_count": 190
        }
      ]
    },
    {
      "cell_type": "code",
      "source": [
        "sum(tp_female_overall)/len(tp_female_overall) + sum(tn_female_overall)/len(tn_female_overall)"
      ],
      "metadata": {
        "colab": {
          "base_uri": "https://localhost:8080/"
        },
        "id": "si-LpIDMrk_u",
        "outputId": "0507cf03-2363-4e80-c827-723b38493947"
      },
      "execution_count": null,
      "outputs": [
        {
          "output_type": "execute_result",
          "data": {
            "text/plain": [
              "2613.6"
            ]
          },
          "metadata": {},
          "execution_count": 191
        }
      ]
    },
    {
      "cell_type": "code",
      "source": [
        "sum(fp_female_overall)/len(fp_female_overall) + sum(fn_female_overall)/len(fn_female_overall)"
      ],
      "metadata": {
        "colab": {
          "base_uri": "https://localhost:8080/"
        },
        "id": "IiXr0hossdat",
        "outputId": "e18cb834-5628-4ddb-938c-1b06445f7fa5"
      },
      "execution_count": null,
      "outputs": [
        {
          "output_type": "execute_result",
          "data": {
            "text/plain": [
              "414.2"
            ]
          },
          "metadata": {},
          "execution_count": 192
        }
      ]
    },
    {
      "cell_type": "code",
      "source": [
        "sum(tp_male_overall)/len(tp_male_overall) + sum(fp_male_overall)/len(fp_male_overall)"
      ],
      "metadata": {
        "colab": {
          "base_uri": "https://localhost:8080/"
        },
        "id": "C8I5GI_zse1N",
        "outputId": "9afe7ca5-a73e-4626-f33d-b5f2a0877f60"
      },
      "execution_count": null,
      "outputs": [
        {
          "output_type": "execute_result",
          "data": {
            "text/plain": [
              "1947.1"
            ]
          },
          "metadata": {},
          "execution_count": 193
        }
      ]
    },
    {
      "cell_type": "code",
      "source": [
        "sum(fn_male_overall)/len(fn_male_overall) + sum(tn_male_overall)/len(tn_male_overall)"
      ],
      "metadata": {
        "colab": {
          "base_uri": "https://localhost:8080/"
        },
        "id": "sU9n_BmEsg5a",
        "outputId": "a57c0758-94f2-45f7-a46a-c92ceaa8285b"
      },
      "execution_count": null,
      "outputs": [
        {
          "output_type": "execute_result",
          "data": {
            "text/plain": [
              "1068.0"
            ]
          },
          "metadata": {},
          "execution_count": 194
        }
      ]
    },
    {
      "cell_type": "code",
      "source": [
        "sum(tp_female_overall)/len(tp_female_overall) + sum(fp_female_overall)/len(fp_female_overall)"
      ],
      "metadata": {
        "colab": {
          "base_uri": "https://localhost:8080/"
        },
        "id": "q6rumUP1slAa",
        "outputId": "e6448ed0-799c-4421-8cc8-5eb934c78245"
      },
      "execution_count": null,
      "outputs": [
        {
          "output_type": "execute_result",
          "data": {
            "text/plain": [
              "896.3"
            ]
          },
          "metadata": {},
          "execution_count": 195
        }
      ]
    },
    {
      "cell_type": "code",
      "source": [
        "sum(tp_male_overall)/len(tp_male_overall)"
      ],
      "metadata": {
        "colab": {
          "base_uri": "https://localhost:8080/"
        },
        "id": "83JoTg6SstLK",
        "outputId": "7e4adffa-6b1f-4607-c4b5-e78dec86c9ba"
      },
      "execution_count": null,
      "outputs": [
        {
          "output_type": "execute_result",
          "data": {
            "text/plain": [
              "1590.7"
            ]
          },
          "metadata": {},
          "execution_count": 196
        }
      ]
    },
    {
      "cell_type": "code",
      "source": [
        "sum(tp_female_overall)/len(tp_female_overall)"
      ],
      "metadata": {
        "colab": {
          "base_uri": "https://localhost:8080/"
        },
        "id": "EpDCVlN5szJC",
        "outputId": "9096385d-abce-4be4-aa5a-84b91637e67f"
      },
      "execution_count": null,
      "outputs": [
        {
          "output_type": "execute_result",
          "data": {
            "text/plain": [
              "736.3"
            ]
          },
          "metadata": {},
          "execution_count": 197
        }
      ]
    },
    {
      "cell_type": "markdown",
      "source": [
        "Analysis for question 12-18"
      ],
      "metadata": {
        "id": "Vh0YGbCstj6H"
      }
    },
    {
      "cell_type": "code",
      "source": [
        "sum(tp_overall_dropped)/len(tp_overall_dropped) + sum(tn_overall_dropped)/len(tn_overall_dropped)"
      ],
      "metadata": {
        "colab": {
          "base_uri": "https://localhost:8080/"
        },
        "id": "0u-3L8fOxPxo",
        "outputId": "90751181-5759-473c-e999-b3af414b239c"
      },
      "execution_count": null,
      "outputs": [
        {
          "output_type": "execute_result",
          "data": {
            "text/plain": [
              "4930.7"
            ]
          },
          "metadata": {},
          "execution_count": 198
        }
      ]
    },
    {
      "cell_type": "code",
      "source": [
        "sum(fp_overall_dropped)/len(fp_overall_dropped) + sum(fn_overall_dropped)/len(fn_overall_dropped)"
      ],
      "metadata": {
        "colab": {
          "base_uri": "https://localhost:8080/"
        },
        "id": "mU4nNeIdxQ5e",
        "outputId": "4acd9ed4-bac8-4704-d055-a05cc1508ff8"
      },
      "execution_count": null,
      "outputs": [
        {
          "output_type": "execute_result",
          "data": {
            "text/plain": [
              "1112.2"
            ]
          },
          "metadata": {},
          "execution_count": 199
        }
      ]
    },
    {
      "cell_type": "code",
      "source": [
        "sum(tp_male_overall_dropped)/len(tp_male_overall_dropped) + sum(tn_male_overall_dropped)/len(tn_male_overall_dropped)"
      ],
      "metadata": {
        "colab": {
          "base_uri": "https://localhost:8080/"
        },
        "id": "hIkE5pDmxTjz",
        "outputId": "823cc6af-1fcf-4bb7-f202-f82b0109e5a1"
      },
      "execution_count": null,
      "outputs": [
        {
          "output_type": "execute_result",
          "data": {
            "text/plain": [
              "2351.3"
            ]
          },
          "metadata": {},
          "execution_count": 200
        }
      ]
    },
    {
      "cell_type": "code",
      "source": [
        "sum(fp_male_overall_dropped)/len(fp_male_overall_dropped) + sum(fn_male_overall_dropped)/len(fn_male_overall_dropped)"
      ],
      "metadata": {
        "colab": {
          "base_uri": "https://localhost:8080/"
        },
        "id": "f-65RUcAxcvR",
        "outputId": "def76f86-8807-4e73-9dcd-b85c066f4d4d"
      },
      "execution_count": null,
      "outputs": [
        {
          "output_type": "execute_result",
          "data": {
            "text/plain": [
              "663.8"
            ]
          },
          "metadata": {},
          "execution_count": 201
        }
      ]
    },
    {
      "cell_type": "code",
      "source": [
        "sum(tp_female_overall_dropped)/len(tp_female_overall_dropped) + sum(tn_female_overall_dropped)/len(tn_female_overall_dropped)"
      ],
      "metadata": {
        "colab": {
          "base_uri": "https://localhost:8080/"
        },
        "id": "-ADZYd5Hxlmf",
        "outputId": "a74bd67c-0ad9-4e85-d86a-e4e7f95bcf36"
      },
      "execution_count": null,
      "outputs": [
        {
          "output_type": "execute_result",
          "data": {
            "text/plain": [
              "2579.4"
            ]
          },
          "metadata": {},
          "execution_count": 202
        }
      ]
    },
    {
      "cell_type": "code",
      "source": [
        "sum(fp_female_overall_dropped)/len(fp_female_overall_dropped) + sum(fn_female_overall_dropped)/len(fn_female_overall_dropped)"
      ],
      "metadata": {
        "colab": {
          "base_uri": "https://localhost:8080/"
        },
        "id": "SqTvce_nxskN",
        "outputId": "dc5c482f-507b-4d56-b9e8-72ff6493c9a0"
      },
      "execution_count": null,
      "outputs": [
        {
          "output_type": "execute_result",
          "data": {
            "text/plain": [
              "448.4"
            ]
          },
          "metadata": {},
          "execution_count": 203
        }
      ]
    },
    {
      "cell_type": "code",
      "source": [
        "sum(tp_male_overall_dropped)/len(tp_male_overall_dropped) + sum(fp_male_overall_dropped)/len(fp_male_overall_dropped)"
      ],
      "metadata": {
        "colab": {
          "base_uri": "https://localhost:8080/"
        },
        "id": "pzs0nRuXxwkd",
        "outputId": "6b214d07-e8d5-4190-e247-1af49335d6a9"
      },
      "execution_count": null,
      "outputs": [
        {
          "output_type": "execute_result",
          "data": {
            "text/plain": [
              "1586.3000000000002"
            ]
          },
          "metadata": {},
          "execution_count": 204
        }
      ]
    },
    {
      "cell_type": "code",
      "source": [
        "sum(tp_female_overall_dropped)/len(tp_female_overall_dropped) + sum(fp_female_overall_dropped)/len(fp_female_overall_dropped)"
      ],
      "metadata": {
        "colab": {
          "base_uri": "https://localhost:8080/"
        },
        "id": "u69siMmXxzQd",
        "outputId": "62139e72-1093-417a-d573-36e6e8af4a00"
      },
      "execution_count": null,
      "outputs": [
        {
          "output_type": "execute_result",
          "data": {
            "text/plain": [
              "1026.3"
            ]
          },
          "metadata": {},
          "execution_count": 205
        }
      ]
    },
    {
      "cell_type": "code",
      "source": [
        "sum(fn_male_overall_dropped)/len(fn_male_overall_dropped) + sum(tn_male_overall_dropped)/len(tn_male_overall_dropped)"
      ],
      "metadata": {
        "colab": {
          "base_uri": "https://localhost:8080/"
        },
        "id": "86nZf-Jwx2Nc",
        "outputId": "e93d4ba2-f4c9-4226-ea73-b9c2244a5d93"
      },
      "execution_count": null,
      "outputs": [
        {
          "output_type": "execute_result",
          "data": {
            "text/plain": [
              "1428.8"
            ]
          },
          "metadata": {},
          "execution_count": 206
        }
      ]
    },
    {
      "cell_type": "code",
      "source": [
        "sum(tn_female_overall_dropped)/len(tn_female_overall_dropped) + sum(fn_female_overall_dropped)/len(fn_female_overall_dropped)"
      ],
      "metadata": {
        "colab": {
          "base_uri": "https://localhost:8080/"
        },
        "id": "-d6J-rLlyEkp",
        "outputId": "9caa1d37-f2ed-42c9-8f4b-85649fe10e97"
      },
      "execution_count": null,
      "outputs": [
        {
          "output_type": "execute_result",
          "data": {
            "text/plain": [
              "2001.5"
            ]
          },
          "metadata": {},
          "execution_count": 208
        }
      ]
    },
    {
      "cell_type": "code",
      "source": [
        "sum(tp_male_overall_dropped)/len(tp_male_overall_dropped)"
      ],
      "metadata": {
        "colab": {
          "base_uri": "https://localhost:8080/"
        },
        "id": "4xVWggB5yHKx",
        "outputId": "3c6a33a1-4b20-4145-c5e4-560e3db7abc5"
      },
      "execution_count": null,
      "outputs": [
        {
          "output_type": "execute_result",
          "data": {
            "text/plain": [
              "1404.4"
            ]
          },
          "metadata": {},
          "execution_count": 209
        }
      ]
    },
    {
      "cell_type": "code",
      "source": [
        "sum(tp_female_overall_dropped)/len(tp_female_overall_dropped)"
      ],
      "metadata": {
        "colab": {
          "base_uri": "https://localhost:8080/"
        },
        "id": "SE8JQPSwyIAY",
        "outputId": "41ef8ac6-dc55-45df-c53b-f18bf00be6d8"
      },
      "execution_count": null,
      "outputs": [
        {
          "output_type": "execute_result",
          "data": {
            "text/plain": [
              "784.2"
            ]
          },
          "metadata": {},
          "execution_count": 210
        }
      ]
    },
    {
      "cell_type": "code",
      "source": [
        "sum(male_accuracy_dropped)/len(male_accuracy_dropped)"
      ],
      "metadata": {
        "colab": {
          "base_uri": "https://localhost:8080/"
        },
        "id": "OSVRW2H4yKkB",
        "outputId": "3b46b2a7-3062-4016-8d59-a4ed848f164e"
      },
      "execution_count": null,
      "outputs": [
        {
          "output_type": "execute_result",
          "data": {
            "text/plain": [
              "0.7798807906449271"
            ]
          },
          "metadata": {},
          "execution_count": 212
        }
      ]
    },
    {
      "cell_type": "code",
      "source": [
        "sum(female_accuracy_dropped)/len(female_accuracy_dropped)"
      ],
      "metadata": {
        "colab": {
          "base_uri": "https://localhost:8080/"
        },
        "id": "-Wcl2r-SyQIW",
        "outputId": "d7ae12d7-da23-468e-cd46-ed4dbdd33c86"
      },
      "execution_count": null,
      "outputs": [
        {
          "output_type": "execute_result",
          "data": {
            "text/plain": [
              "0.8519530630654467"
            ]
          },
          "metadata": {},
          "execution_count": 214
        }
      ]
    }
  ]
}